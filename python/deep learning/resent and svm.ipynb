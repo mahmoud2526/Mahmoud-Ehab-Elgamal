{
 "cells": [
  {
   "cell_type": "code",
   "execution_count": 6,
   "id": "b127bd38",
   "metadata": {},
   "outputs": [],
   "source": [
    "from keras.preprocessing.image import ImageDataGenerator\n",
    "from keras.applications.resnet50 import ResNet50,preprocess_input\n",
    "import numpy as np"
   ]
  },
  {
   "cell_type": "code",
   "execution_count": 4,
   "id": "46276514",
   "metadata": {},
   "outputs": [],
   "source": [
    "def load_images(datasets):\n",
    "    datagen=ImageDataGenerator(\n",
    "        preprocessing_function=preprocess_input,\n",
    "        rotation_range=20,\n",
    "        width_shift_range=0.2,\n",
    "        height_shift_range=0.2,\n",
    "        shear_range=0.2,\n",
    "        zoom_range=0.2,\n",
    "        horizontal_flip=True\n",
    "    )\n",
    "    data_load=datagen.flow_from_directory(\n",
    "    datasets,\n",
    "    target_size=(224,224),\n",
    "    batch_size=16,\n",
    "    class_mode=\"binary\")\n",
    "    return data_load"
   ]
  },
  {
   "cell_type": "code",
   "execution_count": 5,
   "id": "a100b40e",
   "metadata": {},
   "outputs": [
    {
     "name": "stdout",
     "output_type": "stream",
     "text": [
      "Found 160 images belonging to 2 classes.\n",
      "WARNING:tensorflow:From C:\\Users\\Eng mahmoud\\anaconda3\\Lib\\site-packages\\keras\\src\\backend.py:1398: The name tf.executing_eagerly_outside_functions is deprecated. Please use tf.compat.v1.executing_eagerly_outside_functions instead.\n",
      "\n",
      "WARNING:tensorflow:From C:\\Users\\Eng mahmoud\\anaconda3\\Lib\\site-packages\\keras\\src\\layers\\normalization\\batch_normalization.py:979: The name tf.nn.fused_batch_norm is deprecated. Please use tf.compat.v1.nn.fused_batch_norm instead.\n",
      "\n",
      "Downloading data from https://storage.googleapis.com/tensorflow/keras-applications/resnet/resnet50_weights_tf_dim_ordering_tf_kernels_notop.h5\n",
      "94765736/94765736 [==============================] - 38s 0us/step\n"
     ]
    }
   ],
   "source": [
    "datasets_ds=\"Ds\"\n",
    "data_ds=load_images(datasets_ds)\n",
    "base_model=ResNet50(weights=\"imagenet\",include_top=False)"
   ]
  },
  {
   "cell_type": "code",
   "execution_count": 14,
   "id": "31f94193",
   "metadata": {},
   "outputs": [],
   "source": [
    "\n",
    "\n",
    "def extract_features(generator,sample_count):\n",
    "    features=np.zeros(shape=(sample_count,7,7,2048))\n",
    "    labels=  np.zeros(shape=(sample_count))  \n",
    "    i=0\n",
    "    for input_patch,label_patch in generator:\n",
    "        model=base_model.predict(input_patch)\n",
    "        features[i*16:(i+1)*16]=model\n",
    "        labels[i*16:(i+1)*16]=label_patch\n",
    "        i+=1\n",
    "        if (i*16)>=sample_count:\n",
    "            break\n",
    "    \n",
    "    return features,labels\n",
    "\n",
    "    \n",
    "    \n",
    "    \n",
    "    \n",
    "    "
   ]
  },
  {
   "cell_type": "code",
   "execution_count": 15,
   "id": "93cabbca",
   "metadata": {},
   "outputs": [
    {
     "name": "stdout",
     "output_type": "stream",
     "text": [
      "1/1 [==============================] - 1s 1s/step\n",
      "1/1 [==============================] - 1s 1s/step\n",
      "1/1 [==============================] - 1s 1s/step\n",
      "1/1 [==============================] - 1s 1s/step\n",
      "1/1 [==============================] - 1s 1s/step\n",
      "1/1 [==============================] - 1s 1s/step\n",
      "1/1 [==============================] - 1s 1s/step\n",
      "1/1 [==============================] - 1s 1s/step\n",
      "1/1 [==============================] - 1s 1s/step\n",
      "1/1 [==============================] - 1s 1s/step\n"
     ]
    }
   ],
   "source": [
    "x,y=extract_features(data_ds,data_ds.samples)"
   ]
  },
  {
   "cell_type": "code",
   "execution_count": 20,
   "id": "6c74615c",
   "metadata": {},
   "outputs": [
    {
     "data": {
      "text/plain": [
       "(100352, (160, 100352))"
      ]
     },
     "execution_count": 20,
     "metadata": {},
     "output_type": "execute_result"
    }
   ],
   "source": [
    "x_features=x.reshape(x.shape[0],-1)\n",
    "\n",
    "7*7*2048,x_features.shape"
   ]
  },
  {
   "cell_type": "code",
   "execution_count": 25,
   "id": "57a4f204",
   "metadata": {},
   "outputs": [],
   "source": [
    "from sklearn.model_selection import train_test_split\n",
    "xtrain,xtest,ytrain,ytest= train_test_split(x_features,y,test_size=0.2,random_state=30)"
   ]
  },
  {
   "cell_type": "code",
   "execution_count": 27,
   "id": "831775ce",
   "metadata": {},
   "outputs": [
    {
     "data": {
      "text/plain": [
       "(1.0,\n",
       " '              precision    recall  f1-score   support\\n\\n         0.0       1.00      1.00      1.00        26\\n         1.0       1.00      1.00      1.00         6\\n\\n    accuracy                           1.00        32\\n   macro avg       1.00      1.00      1.00        32\\nweighted avg       1.00      1.00      1.00        32\\n')"
      ]
     },
     "execution_count": 27,
     "metadata": {},
     "output_type": "execute_result"
    }
   ],
   "source": [
    "from sklearn.svm import SVC\n",
    "from sklearn.metrics import accuracy_score,classification_report\n",
    "svc=SVC(kernel=\"linear\")\n",
    "svc.fit(xtrain,ytrain)\n",
    "predict=svc.predict(xtest)\n",
    "svm_accuracy=accuracy_score(predict,ytest)\n",
    "svm_accuracy,classification_report(predict,ytest)"
   ]
  },
  {
   "cell_type": "code",
   "execution_count": null,
   "id": "feffa761",
   "metadata": {},
   "outputs": [],
   "source": []
  }
 ],
 "metadata": {
  "kernelspec": {
   "display_name": "Python 3 (ipykernel)",
   "language": "python",
   "name": "python3"
  },
  "language_info": {
   "codemirror_mode": {
    "name": "ipython",
    "version": 3
   },
   "file_extension": ".py",
   "mimetype": "text/x-python",
   "name": "python",
   "nbconvert_exporter": "python",
   "pygments_lexer": "ipython3",
   "version": "3.11.5"
  }
 },
 "nbformat": 4,
 "nbformat_minor": 5
}
