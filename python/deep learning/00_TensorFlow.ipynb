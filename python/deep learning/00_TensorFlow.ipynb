{
  "nbformat": 4,
  "nbformat_minor": 0,
  "metadata": {
    "colab": {
      "provenance": []
    },
    "kernelspec": {
      "name": "python3",
      "display_name": "Python 3"
    },
    "language_info": {
      "name": "python"
    }
  },
  "cells": [
    {
      "cell_type": "code",
      "execution_count": null,
      "metadata": {
        "id": "oWpgwRtgnmBf"
      },
      "outputs": [],
      "source": [
        "#import tensorflow\n",
        "import tensorflow as tf"
      ]
    },
    {
      "cell_type": "code",
      "source": [
        "#tf.constant for build tensors\n",
        "tensor1=tf.constant(7)\n",
        "tensor1"
      ],
      "metadata": {
        "colab": {
          "base_uri": "https://localhost:8080/"
        },
        "id": "lzu3vPtYpCoZ",
        "outputId": "e1ffe6a7-7d76-48d2-90a5-1384d3bbbb85"
      },
      "execution_count": null,
      "outputs": [
        {
          "output_type": "execute_result",
          "data": {
            "text/plain": [
              "<tf.Tensor: shape=(), dtype=int32, numpy=7>"
            ]
          },
          "metadata": {},
          "execution_count": 2
        }
      ]
    },
    {
      "cell_type": "code",
      "source": [
        "tensor1.ndim #to print tensor dimensions"
      ],
      "metadata": {
        "colab": {
          "base_uri": "https://localhost:8080/"
        },
        "id": "XyVLtq82p2NT",
        "outputId": "998882cf-6796-47fc-b996-8575bf962719"
      },
      "execution_count": null,
      "outputs": [
        {
          "output_type": "execute_result",
          "data": {
            "text/plain": [
              "0"
            ]
          },
          "metadata": {},
          "execution_count": 3
        }
      ]
    },
    {
      "cell_type": "code",
      "source": [
        "#create vector\n",
        "tensor2=tf.constant([10,20])\n",
        "tensor2"
      ],
      "metadata": {
        "id": "pZUKUStpqzFw",
        "colab": {
          "base_uri": "https://localhost:8080/"
        },
        "outputId": "327f5c66-9b8c-45c6-e5fc-5cd42cc68c32"
      },
      "execution_count": null,
      "outputs": [
        {
          "output_type": "execute_result",
          "data": {
            "text/plain": [
              "<tf.Tensor: shape=(2,), dtype=int32, numpy=array([10, 20], dtype=int32)>"
            ]
          },
          "metadata": {},
          "execution_count": 4
        }
      ]
    },
    {
      "cell_type": "code",
      "source": [
        "#matrix\n",
        "tensor3=tf.constant([[10,20],[20,30]])\n",
        "tensor3.ndim"
      ],
      "metadata": {
        "colab": {
          "base_uri": "https://localhost:8080/"
        },
        "id": "c6Wxztwm03Ot",
        "outputId": "35698b31-0787-4350-9f93-738b16206e91"
      },
      "execution_count": null,
      "outputs": [
        {
          "output_type": "execute_result",
          "data": {
            "text/plain": [
              "2"
            ]
          },
          "metadata": {},
          "execution_count": 5
        }
      ]
    },
    {
      "cell_type": "code",
      "source": [
        "#change datatype\n",
        "tensor4=tf.constant([2.0,4.0],dtype=tf.float16)\n",
        "tensor4"
      ],
      "metadata": {
        "colab": {
          "base_uri": "https://localhost:8080/"
        },
        "id": "T2EfqItA1RP3",
        "outputId": "aaf4f404-90cd-4f1b-cd3d-30206c8f8c4d"
      },
      "execution_count": null,
      "outputs": [
        {
          "output_type": "execute_result",
          "data": {
            "text/plain": [
              "<tf.Tensor: shape=(2,), dtype=float16, numpy=array([2., 4.], dtype=float16)>"
            ]
          },
          "metadata": {},
          "execution_count": 6
        }
      ]
    },
    {
      "cell_type": "code",
      "source": [
        "#varbial tensor by tf.Variabal\n",
        "tensor5=tf.Variable(1)\n",
        "tensor5\n",
        "tensor5.assign(7)"
      ],
      "metadata": {
        "colab": {
          "base_uri": "https://localhost:8080/"
        },
        "id": "n74tbFxQ1wlw",
        "outputId": "a6071c66-dc76-41dd-bc27-6d8059df2b54"
      },
      "execution_count": null,
      "outputs": [
        {
          "output_type": "execute_result",
          "data": {
            "text/plain": [
              "<tf.Variable 'UnreadVariable' shape=() dtype=int32, numpy=7>"
            ]
          },
          "metadata": {},
          "execution_count": 7
        }
      ]
    },
    {
      "cell_type": "code",
      "source": [
        "#change value with assign\n",
        "tensor5.assign(10)\n",
        "#constant cant change"
      ],
      "metadata": {
        "colab": {
          "base_uri": "https://localhost:8080/"
        },
        "id": "IWsyZ08J323e",
        "outputId": "43d41c87-92d9-4b65-ba32-5db4d220819d"
      },
      "execution_count": null,
      "outputs": [
        {
          "output_type": "execute_result",
          "data": {
            "text/plain": [
              "<tf.Variable 'UnreadVariable' shape=() dtype=int32, numpy=10>"
            ]
          },
          "metadata": {},
          "execution_count": 8
        }
      ]
    },
    {
      "cell_type": "code",
      "source": [
        "#random tensor tf.random.generator ama from_seed(num) if put same num will generate same random value\n",
        "tensor6=tf.random.Generator.from_seed(0)\n",
        "tensor6=tensor6.normal(shape=(4,6)) #normal random\n",
        "\n",
        "tensor6"
      ],
      "metadata": {
        "colab": {
          "base_uri": "https://localhost:8080/"
        },
        "id": "4qBNrdGn4X7f",
        "outputId": "39c77ba7-2b0a-4080-94d8-eeaf76ae88ca"
      },
      "execution_count": null,
      "outputs": [
        {
          "output_type": "execute_result",
          "data": {
            "text/plain": [
              "<tf.Tensor: shape=(4, 6), dtype=float32, numpy=\n",
              "array([[-1.3544159 ,  0.70454913,  0.03666191,  0.86918795,  0.43842274,\n",
              "        -0.53439844],\n",
              "       [-0.07710262,  1.5658046 , -0.1012345 , -0.2744976 ,  1.4204658 ,\n",
              "         1.2609464 ],\n",
              "       [-0.43640924, -1.9633987 , -0.06452483, -1.056841  ,  1.0019137 ,\n",
              "         0.6735137 ],\n",
              "       [ 0.06987712, -1.4077919 ,  1.0278524 ,  0.27974114, -0.01347923,\n",
              "         1.845181  ]], dtype=float32)>"
            ]
          },
          "metadata": {},
          "execution_count": 9
        }
      ]
    },
    {
      "cell_type": "code",
      "source": [
        "tensor7=tf.random.Generator.from_seed(0)\n",
        "tensor7=tensor7.uniform(shape=(4,6)) #uniform random\n",
        "\n",
        "tensor7"
      ],
      "metadata": {
        "colab": {
          "base_uri": "https://localhost:8080/"
        },
        "id": "_-JE1ggd81Sk",
        "outputId": "d45f7be6-ede4-4431-8dee-80a02fb08a39"
      },
      "execution_count": null,
      "outputs": [
        {
          "output_type": "execute_result",
          "data": {
            "text/plain": [
              "<tf.Tensor: shape=(4, 6), dtype=float32, numpy=\n",
              "array([[0.31179297, 0.8263413 , 0.6849456 , 0.0067091 , 0.78749514,\n",
              "        0.3906511 ],\n",
              "       [0.29263055, 0.99216926, 0.95810425, 0.55623317, 0.16466296,\n",
              "        0.13445711],\n",
              "       [0.13229859, 0.5348098 , 0.57090175, 0.50970507, 0.48252344,\n",
              "        0.15580535],\n",
              "       [0.3703227 , 0.49210668, 0.567016  , 0.2077086 , 0.18223882,\n",
              "        0.99883735]], dtype=float32)>"
            ]
          },
          "metadata": {},
          "execution_count": 10
        }
      ]
    },
    {
      "cell_type": "code",
      "source": [
        "#shuffle\n",
        "#if making global seed like inline seed like shuffle will choose the same random and will print the same value\n",
        "tf.random.shuffle(42)\n",
        "shuffle=tf.random.shuffle(tensor7,seed=42)\n",
        "shuffle\n"
      ],
      "metadata": {
        "colab": {
          "base_uri": "https://localhost:8080/"
        },
        "id": "_hzYrKk49f2U",
        "outputId": "db48def6-5a47-40a4-f797-fc6cc93f3308"
      },
      "execution_count": null,
      "outputs": [
        {
          "output_type": "execute_result",
          "data": {
            "text/plain": [
              "<tf.Tensor: shape=(4, 6), dtype=float32, numpy=\n",
              "array([[0.31179297, 0.8263413 , 0.6849456 , 0.0067091 , 0.78749514,\n",
              "        0.3906511 ],\n",
              "       [0.13229859, 0.5348098 , 0.57090175, 0.50970507, 0.48252344,\n",
              "        0.15580535],\n",
              "       [0.3703227 , 0.49210668, 0.567016  , 0.2077086 , 0.18223882,\n",
              "        0.99883735],\n",
              "       [0.29263055, 0.99216926, 0.95810425, 0.55623317, 0.16466296,\n",
              "        0.13445711]], dtype=float32)>"
            ]
          },
          "metadata": {},
          "execution_count": 11
        }
      ]
    },
    {
      "cell_type": "code",
      "source": [
        "ones=tf.ones([7,3]) #like numpy.ones()\n",
        "\n",
        "zeros=tf.zeros(5)\n",
        "ones,zeros"
      ],
      "metadata": {
        "id": "KA-Iued0Ds7n",
        "colab": {
          "base_uri": "https://localhost:8080/"
        },
        "outputId": "9a24e0fa-f798-4d2d-f079-7fbfd1095d8b"
      },
      "execution_count": null,
      "outputs": [
        {
          "output_type": "execute_result",
          "data": {
            "text/plain": [
              "(<tf.Tensor: shape=(7, 3), dtype=float32, numpy=\n",
              " array([[1., 1., 1.],\n",
              "        [1., 1., 1.],\n",
              "        [1., 1., 1.],\n",
              "        [1., 1., 1.],\n",
              "        [1., 1., 1.],\n",
              "        [1., 1., 1.],\n",
              "        [1., 1., 1.]], dtype=float32)>,\n",
              " <tf.Tensor: shape=(5,), dtype=float32, numpy=array([0., 0., 0., 0., 0.], dtype=float32)>)"
            ]
          },
          "metadata": {},
          "execution_count": 12
        }
      ]
    },
    {
      "cell_type": "code",
      "source": [
        "#shape (7,3)\n",
        "#size 21 =7*3\n",
        "#dimensional ones[1]\n",
        "#rank 2 in multy or i in vector\n",
        "tf.size(ones)"
      ],
      "metadata": {
        "colab": {
          "base_uri": "https://localhost:8080/"
        },
        "id": "HtKvsrA_a_Zb",
        "outputId": "7ab5d05f-ac10-40f3-8ca3-5c80c7a7c5b5"
      },
      "execution_count": null,
      "outputs": [
        {
          "output_type": "execute_result",
          "data": {
            "text/plain": [
              "<tf.Tensor: shape=(), dtype=int32, numpy=21>"
            ]
          },
          "metadata": {},
          "execution_count": 13
        }
      ]
    },
    {
      "cell_type": "code",
      "source": [
        "tensor7=tf.Variable([2,4])\n",
        "tensor8=tf.Variable([4,8])\n",
        "\n",
        "add=tensor7+tensor8\n",
        "mul=tensor7*tensor8\n",
        "div=tensor7/tensor8\n",
        "minus=tensor7-tensor8\n",
        "mul2=tensor7*8\n",
        "add,mul,div,minus,mul2"
      ],
      "metadata": {
        "colab": {
          "base_uri": "https://localhost:8080/"
        },
        "id": "OF_MMk9QfVvZ",
        "outputId": "f99dc59c-9fc3-4114-b7c1-595f97a7a028"
      },
      "execution_count": null,
      "outputs": [
        {
          "output_type": "execute_result",
          "data": {
            "text/plain": [
              "(<tf.Tensor: shape=(2,), dtype=int32, numpy=array([ 6, 12], dtype=int32)>,\n",
              " <tf.Tensor: shape=(2,), dtype=int32, numpy=array([ 8, 32], dtype=int32)>,\n",
              " <tf.Tensor: shape=(2,), dtype=float64, numpy=array([0.5, 0.5])>,\n",
              " <tf.Tensor: shape=(2,), dtype=int32, numpy=array([-2, -4], dtype=int32)>,\n",
              " <tf.Tensor: shape=(2,), dtype=int32, numpy=array([16, 32], dtype=int32)>)"
            ]
          },
          "metadata": {},
          "execution_count": 14
        }
      ]
    },
    {
      "cell_type": "code",
      "source": [
        "import numpy as np\n"
      ],
      "metadata": {
        "id": "2FxEQYgoj1H5"
      },
      "execution_count": null,
      "outputs": []
    },
    {
      "cell_type": "code",
      "source": [
        "#for layer import tf.keras.layers .Dense  keras used for build moduels\n",
        "x=np.array([[100,17]])\n",
        "\n",
        "layer_1= tf.keras.layers.Dense(units=3,activation=\"sigmoid\")\n"
      ],
      "metadata": {
        "id": "3faKrTIroznO"
      },
      "execution_count": null,
      "outputs": []
    },
    {
      "cell_type": "code",
      "source": [
        "a1=layer_1(x)\n",
        "a1"
      ],
      "metadata": {
        "colab": {
          "base_uri": "https://localhost:8080/"
        },
        "id": "DvnKKVG5oyGd",
        "outputId": "346fcd80-a2da-4c5d-a08d-4249de8ce3ea"
      },
      "execution_count": null,
      "outputs": [
        {
          "output_type": "execute_result",
          "data": {
            "text/plain": [
              "<tf.Tensor: shape=(1, 3), dtype=float32, numpy=array([[1.0000000e+00, 4.0489795e-10, 6.9390282e-02]], dtype=float32)>"
            ]
          },
          "metadata": {},
          "execution_count": 17
        }
      ]
    },
    {
      "cell_type": "code",
      "source": [
        "a1.numpy()"
      ],
      "metadata": {
        "colab": {
          "base_uri": "https://localhost:8080/"
        },
        "id": "Hih0dcOuxR4Y",
        "outputId": "05a7e6b7-1405-46af-88f9-b76a716fc1d0"
      },
      "execution_count": null,
      "outputs": [
        {
          "output_type": "execute_result",
          "data": {
            "text/plain": [
              "array([[1.0000000e+00, 4.0489795e-10, 6.9390282e-02]], dtype=float32)"
            ]
          },
          "metadata": {},
          "execution_count": 18
        }
      ]
    },
    {
      "cell_type": "code",
      "source": [
        "layer_2=tf.keras.layers.Dense(units=4,activation=\"sigmoid\")"
      ],
      "metadata": {
        "id": "9aytXGN0xgxE"
      },
      "execution_count": null,
      "outputs": []
    },
    {
      "cell_type": "code",
      "source": [
        "#to create model\n",
        "model1=tf.keras.Sequential(layer_1,layer_2)"
      ],
      "metadata": {
        "id": "UPQZEoOR2dyw"
      },
      "execution_count": null,
      "outputs": []
    },
    {
      "cell_type": "markdown",
      "source": [
        "now get in ml after we create neural network we should line it with algorithms like svc we do that but differently in deep by tf. compile and after that, we do fit(x,y) and predict()"
      ],
      "metadata": {
        "id": "O2SaIFUz5rEE"
      }
    },
    {
      "cell_type": "code",
      "source": [
        "#now get in ml after we create nueral network we shold liner it with algorthms like svc we do that but differnt in deep by tf.compile and\n"
      ],
      "metadata": {
        "id": "DjsWv0HD27lI"
      },
      "execution_count": null,
      "outputs": []
    },
    {
      "cell_type": "code",
      "source": [
        "t1=tf.Variable([[1,2]])\n",
        "t2=tf.Variable([[2,4,6],[4,5,8]])\n",
        "d=t1@t2\n",
        "c=tf.matmul(t1,t2)\n",
        "c,d\n",
        "#matmul =@\n"
      ],
      "metadata": {
        "colab": {
          "base_uri": "https://localhost:8080/"
        },
        "id": "ec59i604QhUr",
        "outputId": "0a0af7a4-85f0-4b15-a90b-d800f42863c7"
      },
      "execution_count": null,
      "outputs": [
        {
          "output_type": "execute_result",
          "data": {
            "text/plain": [
              "(<tf.Tensor: shape=(1, 3), dtype=int32, numpy=array([[10, 14, 22]], dtype=int32)>,\n",
              " <tf.Tensor: shape=(1, 3), dtype=int32, numpy=array([[10, 14, 22]], dtype=int32)>)"
            ]
          },
          "metadata": {},
          "execution_count": 22
        }
      ]
    },
    {
      "cell_type": "code",
      "source": [
        "#tf.reshape(x,shape=())\n",
        "x=np.arange(12)\n",
        "t2=tf.Variable(x)\n",
        "tf.reshape(t2,shape=(3,4))\n",
        "t2"
      ],
      "metadata": {
        "colab": {
          "base_uri": "https://localhost:8080/"
        },
        "id": "WufVusfnRUKj",
        "outputId": "4f87a3b1-1bdc-45a4-ae31-4d42c3122506"
      },
      "execution_count": null,
      "outputs": [
        {
          "output_type": "execute_result",
          "data": {
            "text/plain": [
              "<tf.Variable 'Variable:0' shape=(12,) dtype=int64, numpy=array([ 0,  1,  2,  3,  4,  5,  6,  7,  8,  9, 10, 11])>"
            ]
          },
          "metadata": {},
          "execution_count": 23
        }
      ]
    },
    {
      "cell_type": "code",
      "source": [
        "t2=tf.reshape(t2,shape=(3,4))\n"
      ],
      "metadata": {
        "id": "uelzZAhrT5H4"
      },
      "execution_count": null,
      "outputs": []
    },
    {
      "cell_type": "code",
      "source": [
        "t2"
      ],
      "metadata": {
        "colab": {
          "base_uri": "https://localhost:8080/"
        },
        "id": "xH05k5uBT7Zr",
        "outputId": "eedac202-69d7-4dcd-d71b-f66ef229bfc8"
      },
      "execution_count": null,
      "outputs": [
        {
          "output_type": "execute_result",
          "data": {
            "text/plain": [
              "<tf.Tensor: shape=(3, 4), dtype=int64, numpy=\n",
              "array([[ 0,  1,  2,  3],\n",
              "       [ 4,  5,  6,  7],\n",
              "       [ 8,  9, 10, 11]])>"
            ]
          },
          "metadata": {},
          "execution_count": 25
        }
      ]
    },
    {
      "cell_type": "code",
      "source": [
        "t3=tf.transpose(t2)\n",
        "t3"
      ],
      "metadata": {
        "colab": {
          "base_uri": "https://localhost:8080/"
        },
        "id": "tBsw2vZeUlsu",
        "outputId": "18eb4846-fb7c-4081-a653-1f85a5fa8d85"
      },
      "execution_count": null,
      "outputs": [
        {
          "output_type": "execute_result",
          "data": {
            "text/plain": [
              "<tf.Tensor: shape=(4, 3), dtype=int64, numpy=\n",
              "array([[ 0,  4,  8],\n",
              "       [ 1,  5,  9],\n",
              "       [ 2,  6, 10],\n",
              "       [ 3,  7, 11]])>"
            ]
          },
          "metadata": {},
          "execution_count": 26
        }
      ]
    },
    {
      "cell_type": "code",
      "source": [
        "#tf.tensordot()\n",
        "t1=tf.constant([[2,4],[5,6]])\n",
        "t2=tf.constant([[3,7],[2,6]])\n",
        "c=tf.tensordot(t1,t2,axes=1)"
      ],
      "metadata": {
        "id": "gBFspklTYlO0"
      },
      "execution_count": null,
      "outputs": []
    },
    {
      "cell_type": "code",
      "source": [
        "c"
      ],
      "metadata": {
        "colab": {
          "base_uri": "https://localhost:8080/"
        },
        "id": "hqC9ZywibCo4",
        "outputId": "7ad320ad-3c15-41ab-8faa-8d2b8a23f693"
      },
      "execution_count": null,
      "outputs": [
        {
          "output_type": "execute_result",
          "data": {
            "text/plain": [
              "<tf.Tensor: shape=(2, 2), dtype=int32, numpy=\n",
              "array([[14, 38],\n",
              "       [27, 71]], dtype=int32)>"
            ]
          },
          "metadata": {},
          "execution_count": 28
        }
      ]
    },
    {
      "cell_type": "code",
      "source": [
        "t1.dtype"
      ],
      "metadata": {
        "colab": {
          "base_uri": "https://localhost:8080/"
        },
        "id": "rDfoFykUdBMV",
        "outputId": "037f2edd-dcf5-402a-8aa1-d202ebb390e2"
      },
      "execution_count": null,
      "outputs": [
        {
          "output_type": "execute_result",
          "data": {
            "text/plain": [
              "tf.int32"
            ]
          },
          "metadata": {},
          "execution_count": 29
        }
      ]
    },
    {
      "cell_type": "code",
      "source": [
        "#change type and print type\n",
        "t1=tf.cast(t1,dtype=tf.float16)\n",
        "t1.dtype"
      ],
      "metadata": {
        "colab": {
          "base_uri": "https://localhost:8080/"
        },
        "id": "X-MvCcHLdHAQ",
        "outputId": "698c9de3-4922-44d7-b1ff-ae656c3d1faa"
      },
      "execution_count": null,
      "outputs": [
        {
          "output_type": "execute_result",
          "data": {
            "text/plain": [
              "tf.float16"
            ]
          },
          "metadata": {},
          "execution_count": 30
        }
      ]
    },
    {
      "cell_type": "code",
      "source": [
        "#tf.abs\n",
        "t2=tf.Variable([-2,-5])\n",
        "tf.abs(t2)"
      ],
      "metadata": {
        "colab": {
          "base_uri": "https://localhost:8080/"
        },
        "id": "iA24WgmldVBn",
        "outputId": "522287a0-d622-4498-bb16-5e197c65e9a4"
      },
      "execution_count": null,
      "outputs": [
        {
          "output_type": "execute_result",
          "data": {
            "text/plain": [
              "<tf.Tensor: shape=(2,), dtype=int32, numpy=array([2, 5], dtype=int32)>"
            ]
          },
          "metadata": {},
          "execution_count": 31
        }
      ]
    },
    {
      "cell_type": "code",
      "source": [
        "t3=tf.Variable(np.random.randint(0,100,size=50))\n",
        "t3"
      ],
      "metadata": {
        "colab": {
          "base_uri": "https://localhost:8080/"
        },
        "id": "g_cyEMe_eoC4",
        "outputId": "ab7a8847-71cf-43af-9a80-ce072f8afc7b"
      },
      "execution_count": null,
      "outputs": [
        {
          "output_type": "execute_result",
          "data": {
            "text/plain": [
              "<tf.Variable 'Variable:0' shape=(50,) dtype=int64, numpy=\n",
              "array([93, 24, 12, 94, 99, 32, 31,  5, 48, 81, 33, 66, 40, 25, 27, 32, 33,\n",
              "        5, 79, 98,  3, 48, 21, 69, 70, 94, 47, 64, 37, 44, 34, 24, 30, 16,\n",
              "       37, 42,  8, 29, 56, 75, 18, 91, 18, 69, 10, 89, 84, 48, 21,  2])>"
            ]
          },
          "metadata": {},
          "execution_count": 32
        }
      ]
    },
    {
      "cell_type": "code",
      "source": [
        "#minimum maximum by reduce standard divtion\n",
        "\n",
        "tf.reduce_min(t3),tf.reduce_max(t3),tf.reduce_mean(t3),tf.reduce_sum(t3)\n"
      ],
      "metadata": {
        "colab": {
          "base_uri": "https://localhost:8080/"
        },
        "id": "GXmwhOdUe9RV",
        "outputId": "abefc71c-ee0f-46df-bff9-6e0db67d34d6"
      },
      "execution_count": null,
      "outputs": [
        {
          "output_type": "execute_result",
          "data": {
            "text/plain": [
              "(<tf.Tensor: shape=(), dtype=int64, numpy=2>,\n",
              " <tf.Tensor: shape=(), dtype=int64, numpy=99>,\n",
              " <tf.Tensor: shape=(), dtype=int64, numpy=45>,\n",
              " <tf.Tensor: shape=(), dtype=int64, numpy=2255>)"
            ]
          },
          "metadata": {},
          "execution_count": 33
        }
      ]
    },
    {
      "cell_type": "code",
      "source": [
        "import tensorflow_probability as tfp\n"
      ],
      "metadata": {
        "id": "rPCb3b5AfUbe"
      },
      "execution_count": null,
      "outputs": []
    },
    {
      "cell_type": "code",
      "source": [
        "#variance\n",
        "tfp.stats.variance(t3)"
      ],
      "metadata": {
        "colab": {
          "base_uri": "https://localhost:8080/"
        },
        "id": "BaCE7XHFhDe5",
        "outputId": "de9cf96f-7cfd-4229-860b-80302a4ff957"
      },
      "execution_count": null,
      "outputs": [
        {
          "output_type": "execute_result",
          "data": {
            "text/plain": [
              "<tf.Tensor: shape=(), dtype=int64, numpy=832>"
            ]
          },
          "metadata": {},
          "execution_count": 35
        }
      ]
    },
    {
      "cell_type": "code",
      "source": [
        "#standard divison\n",
        "tf.math.reduce_std(tf.cast(t3,dtype=tf.float16))"
      ],
      "metadata": {
        "colab": {
          "base_uri": "https://localhost:8080/"
        },
        "id": "FqZRZ0AIhNf1",
        "outputId": "c635e6fc-97c1-485a-947d-1e3699003ac0"
      },
      "execution_count": null,
      "outputs": [
        {
          "output_type": "execute_result",
          "data": {
            "text/plain": [
              "<tf.Tensor: shape=(), dtype=float16, numpy=28.84>"
            ]
          },
          "metadata": {},
          "execution_count": 36
        }
      ]
    },
    {
      "cell_type": "code",
      "source": [
        "#std by numpy\n",
        "np.std(t3)"
      ],
      "metadata": {
        "colab": {
          "base_uri": "https://localhost:8080/"
        },
        "id": "I2-do_7shrAK",
        "outputId": "653e6870-2604-4b89-abce-f76d2b430ce3"
      },
      "execution_count": null,
      "outputs": [
        {
          "output_type": "execute_result",
          "data": {
            "text/plain": [
              "28.85359596306845"
            ]
          },
          "metadata": {},
          "execution_count": 37
        }
      ]
    },
    {
      "cell_type": "code",
      "source": [
        "#time to train moduel\n",
        "layer1=tf.keras.layers.Dense(units=3,activation=\"sigmoid\")\n",
        "layer2=tf.keras.layers.Dense(units=3,activation=\"sigmoid\")\n",
        "\n",
        "module1=tf.keras.models.Sequential(layer1,layer2)"
      ],
      "metadata": {
        "id": "XcqGC94ih15z"
      },
      "execution_count": null,
      "outputs": []
    },
    {
      "cell_type": "code",
      "source": [
        "model1.compile(loss=tf.keras.losses.BinaryCrossentropy) #loss for classifcation\n",
        "#modiel1.fit(x,y)\n",
        "model1.compile(loss=tf.keras.losses.MeanSquaredError) #for regression"
      ],
      "metadata": {
        "id": "tBVPfKAMI0-Y"
      },
      "execution_count": null,
      "outputs": []
    },
    {
      "cell_type": "code",
      "source": [],
      "metadata": {
        "id": "8EBRCsE9JGbY"
      },
      "execution_count": null,
      "outputs": []
    },
    {
      "cell_type": "markdown",
      "source": [
        "relu like sigmoid use in activation function but his function =max(0,z)\n",
        "and all negitave=0 and liner function in postive\n",
        "and another is linear activation function"
      ],
      "metadata": {
        "id": "BSRqqvmPM9xx"
      }
    },
    {
      "cell_type": "code",
      "source": [
        "layer3=tf.keras.layers.Dense(units=3,activation=\"relu\")"
      ],
      "metadata": {
        "id": "RUCObPOZN0KG"
      },
      "execution_count": null,
      "outputs": []
    },
    {
      "cell_type": "code",
      "source": [
        "layer4=tf.keras.layers.Dense(units=3,activation=\"linear\")"
      ],
      "metadata": {
        "id": "R5Tad0ZaN7Bg"
      },
      "execution_count": null,
      "outputs": []
    },
    {
      "cell_type": "markdown",
      "source": [
        "so when use it and why\n",
        "1- relu if we want no negative use in price\n",
        "2-sigmoid in binary classification get value between 0 and 1\n",
        "3-tanh is like sigmoid but between -1 and 1\n",
        "4-softmax in multi classification\n",
        "5-linear use in regression\n",
        "6-leaky relu is max(alpha*z,z) where alpha =0.01 m3aml altaderb\n",
        "6-swish z*g(z) genral use"
      ],
      "metadata": {
        "id": "j4oQA05qQocr"
      }
    },
    {
      "cell_type": "code",
      "source": [
        "model5=tf.keras.Sequential([tf.keras.layers.Dense(units=25,activation=\"relu\"),tf.keras.layers.Dense(units=15,activation=\"relu\"),tf.keras.layers.Dense(units=10,activation=\"softmax\")])"
      ],
      "metadata": {
        "id": "85ahzbbNN_AG"
      },
      "execution_count": null,
      "outputs": []
    },
    {
      "cell_type": "code",
      "source": [
        "model5.compile(loss=tf.keras.losses.SparseCategoricalCrossentropy) #multy classifcation\n",
        "#relu relu linear more accuracy in multy classification than relu relu softmax"
      ],
      "metadata": {
        "id": "GVJi3Ac7jVx5"
      },
      "execution_count": null,
      "outputs": []
    },
    {
      "cell_type": "code",
      "source": [
        "model5.compile(loss=tf.keras.losses.SparseCategoricalCrossentropy(from_logits=True)) #multy classifcation and from_logits for more accuracy"
      ],
      "metadata": {
        "id": "x6YnlCCMkE0e"
      },
      "execution_count": null,
      "outputs": []
    },
    {
      "cell_type": "code",
      "source": [
        "#new algorithm better than gradient desent is called adams which when see we move in same direction he increase alpha and in some samples make reduse more pionts\n",
        "\n",
        "model5.compile(optimizer=tf.keras.optimizers.Adam(learning_rate=0.001))\n",
        "#leraning_rate is the initial value"
      ],
      "metadata": {
        "id": "iGfhjTYHmhB1"
      },
      "execution_count": null,
      "outputs": []
    },
    {
      "cell_type": "code",
      "source": [
        "from tensorflow.keras.datasets import mnist\n",
        "from tensorflow.keras.layers import Dense,Dropout,Activation"
      ],
      "metadata": {
        "id": "kMpTkGKM_rI6"
      },
      "execution_count": null,
      "outputs": []
    },
    {
      "cell_type": "code",
      "source": [
        "(xtrain,ytrain),(xtest,ytest)=mnist.load_data()"
      ],
      "metadata": {
        "colab": {
          "base_uri": "https://localhost:8080/"
        },
        "id": "gbZi-Ox9ra3J",
        "outputId": "798afa0a-f723-48ff-d102-22244b5502c6"
      },
      "execution_count": null,
      "outputs": [
        {
          "output_type": "stream",
          "name": "stdout",
          "text": [
            "Downloading data from https://storage.googleapis.com/tensorflow/tf-keras-datasets/mnist.npz\n",
            "11490434/11490434 [==============================] - 0s 0us/step\n"
          ]
        }
      ]
    },
    {
      "cell_type": "code",
      "source": [
        "\n",
        "c=tf.shape(xtrain)\n",
        "b=tf.shape(xtest)\n",
        "c,b"
      ],
      "metadata": {
        "colab": {
          "base_uri": "https://localhost:8080/"
        },
        "id": "MD5qfMqCvWhE",
        "outputId": "a077396f-9315-4c50-a6e3-0f32b5df4e7f"
      },
      "execution_count": null,
      "outputs": [
        {
          "output_type": "execute_result",
          "data": {
            "text/plain": [
              "(<tf.Tensor: shape=(3,), dtype=int32, numpy=array([60000,    28,    28], dtype=int32)>,\n",
              " <tf.Tensor: shape=(3,), dtype=int32, numpy=array([10000,    28,    28], dtype=int32)>)"
            ]
          },
          "metadata": {},
          "execution_count": 48
        }
      ]
    },
    {
      "cell_type": "code",
      "source": [
        "import  matplotlib.pyplot as plt\n",
        "for i in range(9):\n",
        "  plt.subplot(3,3,i+1)\n",
        "  plt.imshow(xtrain[i])\n",
        "  plt.title(f\"digit is:  {ytrain[i]}\")\n",
        "  plt.xticks([])\n",
        "  plt.yticks([])"
      ],
      "metadata": {
        "colab": {
          "base_uri": "https://localhost:8080/",
          "height": 428
        },
        "id": "DKjoig0yvdjG",
        "outputId": "0aa2d242-5b6c-4dfd-ae77-3425fbce7485"
      },
      "execution_count": null,
      "outputs": [
        {
          "output_type": "display_data",
          "data": {
            "text/plain": [
              "<Figure size 640x480 with 9 Axes>"
            ],
            "image/png": "[encoded data removed]"
          },
          "metadata": {}
        }
      ]
    },
    {
      "cell_type": "code",
      "source": [
        "xtrain=xtrain.reshape(60000,784)\n",
        "xtest=xtest.reshape(10000,784)\n",
        "xtrain=xtrain.astype(\"float32\")\n",
        "xtest=xtest.astype(\"float32\")"
      ],
      "metadata": {
        "id": "yLuYpy-bwdZu"
      },
      "execution_count": null,
      "outputs": []
    },
    {
      "cell_type": "code",
      "source": [
        "\n",
        "xtrain/=255\n",
        "xtest/=255"
      ],
      "metadata": {
        "id": "OIc2ESfhzYt5"
      },
      "execution_count": null,
      "outputs": []
    },
    {
      "cell_type": "code",
      "source": [
        "ytrain=tf.keras.utils.to_categorical(ytrain,10)\n",
        "ytest=tf.keras.utils.to_categorical(ytest,10)"
      ],
      "metadata": {
        "id": "UlVZqg3P0qNG"
      },
      "execution_count": null,
      "outputs": []
    },
    {
      "cell_type": "code",
      "source": [
        "model=tf.keras.models.Sequential()\n",
        "model.add(Dense(600,input_shape=(784,),activation=\"relu\"))"
      ],
      "metadata": {
        "id": "Zm3xW22z2cEF"
      },
      "execution_count": null,
      "outputs": []
    },
    {
      "cell_type": "code",
      "source": [
        "model.add(Dropout(0.2))"
      ],
      "metadata": {
        "id": "g4IL-FzL_AOj"
      },
      "execution_count": null,
      "outputs": []
    },
    {
      "cell_type": "code",
      "source": [
        "\n",
        "model.add(Dense(600,activation=\"relu\"))\n",
        "model.add(Dropout(0.2))"
      ],
      "metadata": {
        "id": "Vz0VoCPE_mGZ"
      },
      "execution_count": null,
      "outputs": []
    },
    {
      "cell_type": "code",
      "source": [
        "model.add(Dense(10,activation=\"softmax\"))"
      ],
      "metadata": {
        "id": "ZB_hddLd_vY6"
      },
      "execution_count": null,
      "outputs": []
    },
    {
      "cell_type": "code",
      "source": [
        "model.compile(loss=\"categorical_crossentropy\",optimizer=\"adam\",metrics=[\"accuracy\"])#loss=\"catergorical_crossentropy\""
      ],
      "metadata": {
        "id": "AOZBDvd2_3Yw"
      },
      "execution_count": null,
      "outputs": []
    },
    {
      "cell_type": "code",
      "source": [
        "model.fit(xtrain,ytrain,epochs=5,batch_size=100)"
      ],
      "metadata": {
        "colab": {
          "base_uri": "https://localhost:8080/"
        },
        "id": "-C907NYIA9bo",
        "outputId": "b643eea6-97f6-4fd1-98e9-b190e62f35fc"
      },
      "execution_count": null,
      "outputs": [
        {
          "output_type": "stream",
          "name": "stdout",
          "text": [
            "Epoch 1/5\n",
            "600/600 [==============================] - 13s 20ms/step - loss: 0.2267 - accuracy: 0.9321\n",
            "Epoch 2/5\n",
            "600/600 [==============================] - 11s 19ms/step - loss: 0.0981 - accuracy: 0.9689\n",
            "Epoch 3/5\n",
            "600/600 [==============================] - 11s 19ms/step - loss: 0.0705 - accuracy: 0.9775\n",
            "Epoch 4/5\n",
            "600/600 [==============================] - 12s 21ms/step - loss: 0.0556 - accuracy: 0.9818\n",
            "Epoch 5/5\n",
            "600/600 [==============================] - 12s 21ms/step - loss: 0.0458 - accuracy: 0.9848\n"
          ]
        },
        {
          "output_type": "execute_result",
          "data": {
            "text/plain": [
              "<keras.src.callbacks.History at 0x7877196b7af0>"
            ]
          },
          "metadata": {},
          "execution_count": 74
        }
      ]
    },
    {
      "cell_type": "code",
      "source": [
        "test_score=model.evaluate(xtest,ytest)\n",
        "test_score\n",
        "#1 output test loss\n",
        "#2 output accuract"
      ],
      "metadata": {
        "colab": {
          "base_uri": "https://localhost:8080/"
        },
        "id": "yXxIZBdqBQt6",
        "outputId": "017e7c45-0142-439e-c94f-56847816225b"
      },
      "execution_count": null,
      "outputs": [
        {
          "output_type": "stream",
          "name": "stdout",
          "text": [
            "313/313 [==============================] - 1s 4ms/step - loss: 0.0744 - accuracy: 0.9783\n"
          ]
        },
        {
          "output_type": "execute_result",
          "data": {
            "text/plain": [
              "[0.07440825551748276, 0.9782999753952026]"
            ]
          },
          "metadata": {},
          "execution_count": 75
        }
      ]
    },
    {
      "cell_type": "code",
      "source": [
        "perdict=model.predict(xtest)"
      ],
      "metadata": {
        "colab": {
          "base_uri": "https://localhost:8080/"
        },
        "id": "Jb8C9pJZCkaL",
        "outputId": "7867b651-9046-46a8-c8ab-7141cde3a7f5"
      },
      "execution_count": null,
      "outputs": [
        {
          "output_type": "stream",
          "name": "stdout",
          "text": [
            "313/313 [==============================] - 4s 11ms/step\n"
          ]
        }
      ]
    },
    {
      "cell_type": "code",
      "source": [
        "import numpy as np\n",
        "classes =np.argmax(perdict,axis=-1)"
      ],
      "metadata": {
        "id": "28rxXlk_JHG6"
      },
      "execution_count": null,
      "outputs": []
    },
    {
      "cell_type": "code",
      "source": [
        "classes"
      ],
      "metadata": {
        "colab": {
          "base_uri": "https://localhost:8080/"
        },
        "id": "RaVodMq5Jg24",
        "outputId": "897415ef-54a8-482d-ef6c-2134f4614b77"
      },
      "execution_count": null,
      "outputs": [
        {
          "output_type": "execute_result",
          "data": {
            "text/plain": [
              "array([7, 2, 1, ..., 4, 5, 6])"
            ]
          },
          "metadata": {},
          "execution_count": 80
        }
      ]
    },
    {
      "cell_type": "code",
      "source": [
        "plt.imshow(xtest[1000].reshape(28,28))\n",
        "classes[1000]"
      ],
      "metadata": {
        "colab": {
          "base_uri": "https://localhost:8080/",
          "height": 447
        },
        "id": "52Hp7ChSJifk",
        "outputId": "ea0d7112-0a63-4704-81af-b22159e17c94"
      },
      "execution_count": null,
      "outputs": [
        {
          "output_type": "execute_result",
          "data": {
            "text/plain": [
              "9"
            ]
          },
          "metadata": {},
          "execution_count": 83
        },
        {
          "output_type": "display_data",
          "data": {
            "text/plain": [
              "<Figure size 640x480 with 1 Axes>"
            ],
            "image/png": "[encoded data removed]"
          },
          "metadata": {}
        }
      ]
    },
    {
      "cell_type": "code",
      "source": [],
      "metadata": {
        "id": "bjfJjtIsJ30E"
      },
      "execution_count": null,
      "outputs": []
    }
  ]
}